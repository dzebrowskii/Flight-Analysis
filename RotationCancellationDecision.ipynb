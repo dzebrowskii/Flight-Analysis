{
 "cells": [
  {
   "cell_type": "code",
   "execution_count": 11,
   "id": "initial_id",
   "metadata": {
    "collapsed": true,
    "ExecuteTime": {
     "end_time": "2024-06-06T00:46:45.435453Z",
     "start_time": "2024-06-06T00:46:45.432194Z"
    }
   },
   "outputs": [],
   "source": [
    "import pandas as pd\n",
    "\n"
   ]
  },
  {
   "cell_type": "code",
   "outputs": [
    {
     "data": {
      "text/plain": "  Rotation        Route  Date flt 1   Day flt 2  PAX flt 1  PAX flt 2  \\\n0    LO3/4  WAW-ORD-WAW  2024-04-06  2024-04-06        203        170   \n1  LO29/30  WAW-MIA-WAW  2024-04-06  2024-04-06        201        220   \n2  LO45/46  WAW-YYZ-WAW  2024-04-06  2024-04-06        104         91   \n3  LO41/42  WAW-YYZ-WAW  2024-04-06  2024-04-06        213        211   \n4  LO79/80  WAW-NRT-WAW  2024-04-05  2024-04-06        244        231   \n\n   PAX Group flt 1  PAX Group flt 2  PAX Transit ttl Revenue ttl  \\\n0                1                0              286   1 181 958   \n1               52                0              369   1 367 489   \n2                0                0                0   1 215 588   \n3                0                0              287   1 532 594   \n4               82               67              448   2 310 015   \n\n  Reprotection cost ttl Ancillary REV ttl Beyond REV ttl Cargo REV   VAR cost  \\\n0               290 102            60 021        160 909   149 563    643 581   \n1               322 677            73 160        159 472   202 238    873 482   \n2               203 255            26 974        320 828   187 330    926 552   \n3               290 850            38 598        320 828   139 850  1 157 196   \n4               437 828            37 275        430 835   159 983    763 615   \n\n   Final ttl  \n0    618 769  \n1    606 200  \n2    620 913  \n3    583 823  \n4  1 736 664  ",
      "text/html": "<div>\n<style scoped>\n    .dataframe tbody tr th:only-of-type {\n        vertical-align: middle;\n    }\n\n    .dataframe tbody tr th {\n        vertical-align: top;\n    }\n\n    .dataframe thead th {\n        text-align: right;\n    }\n</style>\n<table border=\"1\" class=\"dataframe\">\n  <thead>\n    <tr style=\"text-align: right;\">\n      <th></th>\n      <th>Rotation</th>\n      <th>Route</th>\n      <th>Date flt 1</th>\n      <th>Day flt 2</th>\n      <th>PAX flt 1</th>\n      <th>PAX flt 2</th>\n      <th>PAX Group flt 1</th>\n      <th>PAX Group flt 2</th>\n      <th>PAX Transit ttl</th>\n      <th>Revenue ttl</th>\n      <th>Reprotection cost ttl</th>\n      <th>Ancillary REV ttl</th>\n      <th>Beyond REV ttl</th>\n      <th>Cargo REV</th>\n      <th>VAR cost</th>\n      <th>Final ttl</th>\n    </tr>\n  </thead>\n  <tbody>\n    <tr>\n      <th>0</th>\n      <td>LO3/4</td>\n      <td>WAW-ORD-WAW</td>\n      <td>2024-04-06</td>\n      <td>2024-04-06</td>\n      <td>203</td>\n      <td>170</td>\n      <td>1</td>\n      <td>0</td>\n      <td>286</td>\n      <td>1 181 958</td>\n      <td>290 102</td>\n      <td>60 021</td>\n      <td>160 909</td>\n      <td>149 563</td>\n      <td>643 581</td>\n      <td>618 769</td>\n    </tr>\n    <tr>\n      <th>1</th>\n      <td>LO29/30</td>\n      <td>WAW-MIA-WAW</td>\n      <td>2024-04-06</td>\n      <td>2024-04-06</td>\n      <td>201</td>\n      <td>220</td>\n      <td>52</td>\n      <td>0</td>\n      <td>369</td>\n      <td>1 367 489</td>\n      <td>322 677</td>\n      <td>73 160</td>\n      <td>159 472</td>\n      <td>202 238</td>\n      <td>873 482</td>\n      <td>606 200</td>\n    </tr>\n    <tr>\n      <th>2</th>\n      <td>LO45/46</td>\n      <td>WAW-YYZ-WAW</td>\n      <td>2024-04-06</td>\n      <td>2024-04-06</td>\n      <td>104</td>\n      <td>91</td>\n      <td>0</td>\n      <td>0</td>\n      <td>0</td>\n      <td>1 215 588</td>\n      <td>203 255</td>\n      <td>26 974</td>\n      <td>320 828</td>\n      <td>187 330</td>\n      <td>926 552</td>\n      <td>620 913</td>\n    </tr>\n    <tr>\n      <th>3</th>\n      <td>LO41/42</td>\n      <td>WAW-YYZ-WAW</td>\n      <td>2024-04-06</td>\n      <td>2024-04-06</td>\n      <td>213</td>\n      <td>211</td>\n      <td>0</td>\n      <td>0</td>\n      <td>287</td>\n      <td>1 532 594</td>\n      <td>290 850</td>\n      <td>38 598</td>\n      <td>320 828</td>\n      <td>139 850</td>\n      <td>1 157 196</td>\n      <td>583 823</td>\n    </tr>\n    <tr>\n      <th>4</th>\n      <td>LO79/80</td>\n      <td>WAW-NRT-WAW</td>\n      <td>2024-04-05</td>\n      <td>2024-04-06</td>\n      <td>244</td>\n      <td>231</td>\n      <td>82</td>\n      <td>67</td>\n      <td>448</td>\n      <td>2 310 015</td>\n      <td>437 828</td>\n      <td>37 275</td>\n      <td>430 835</td>\n      <td>159 983</td>\n      <td>763 615</td>\n      <td>1 736 664</td>\n    </tr>\n  </tbody>\n</table>\n</div>"
     },
     "execution_count": 27,
     "metadata": {},
     "output_type": "execute_result"
    }
   ],
   "source": [
    "path = 'dane_zadanie2.csv'\n",
    "df = pd.read_csv(path)\n",
    "\n",
    "df.head()"
   ],
   "metadata": {
    "collapsed": false,
    "ExecuteTime": {
     "end_time": "2024-06-06T00:59:04.133914Z",
     "start_time": "2024-06-06T00:59:04.086591Z"
    }
   },
   "id": "9cc21f0b8400da2",
   "execution_count": 27
  },
  {
   "cell_type": "code",
   "outputs": [
    {
     "name": "stdout",
     "output_type": "stream",
     "text": [
      "<class 'pandas.core.frame.DataFrame'>\n",
      "RangeIndex: 19 entries, 0 to 18\n",
      "Data columns (total 16 columns):\n",
      " #   Column                 Non-Null Count  Dtype \n",
      "---  ------                 --------------  ----- \n",
      " 0   Rotation               19 non-null     object\n",
      " 1   Route                  19 non-null     object\n",
      " 2   Date flt 1             19 non-null     object\n",
      " 3   Day flt 2              19 non-null     object\n",
      " 4   PAX flt 1              19 non-null     int64 \n",
      " 5   PAX flt 2              19 non-null     int64 \n",
      " 6   PAX Group flt 1        19 non-null     int64 \n",
      " 7   PAX Group flt 2        19 non-null     int64 \n",
      " 8   PAX Transit ttl        19 non-null     int64 \n",
      " 9   Revenue ttl            19 non-null     object\n",
      " 10  Reprotection cost ttl  19 non-null     object\n",
      " 11  Ancillary REV ttl      19 non-null     object\n",
      " 12  Beyond REV ttl         19 non-null     object\n",
      " 13  Cargo REV              19 non-null     object\n",
      " 14  VAR cost               19 non-null     object\n",
      " 15  Final ttl              19 non-null     object\n",
      "dtypes: int64(5), object(11)\n",
      "memory usage: 2.5+ KB\n"
     ]
    }
   ],
   "source": [
    "df.info()"
   ],
   "metadata": {
    "collapsed": false,
    "ExecuteTime": {
     "end_time": "2024-06-06T01:44:22.053942Z",
     "start_time": "2024-06-06T01:44:22.038987Z"
    }
   },
   "id": "586715401e7c7ee8",
   "execution_count": 30
  },
  {
   "cell_type": "markdown",
   "source": [
    "Analizę rozpoczniemy od pogrupowania danych w zależności od dni oraz połączmy ilość pasażerów przed i po przesiadce tak aby mieć wgląd w sumaryczną ilość przewożonych pasażerów :\n",
    "grupa pierwsza od 2024-04-05 do 2024-04-06\n",
    "grupa druga od 2024-04-07 do 2024-04-08\n",
    "grupa trzecia od 2024-04-22 do 2024-04-23"
   ],
   "metadata": {
    "collapsed": false
   },
   "id": "73e1916787bfdd61"
  },
  {
   "cell_type": "code",
   "outputs": [],
   "source": [
    "df['Date flt 1'] = pd.to_datetime(df['Date flt 1'])\n",
    "df['Day flt 2'] = pd.to_datetime(df['Day flt 2'])\n",
    "\n",
    "group1_start = pd.to_datetime('2024-04-05')\n",
    "group1_end = pd.to_datetime('2024-04-06')\n",
    "group2_start = pd.to_datetime('2024-04-07')\n",
    "group2_end = pd.to_datetime('2024-04-08')\n",
    "group3_start = pd.to_datetime('2024-04-22')\n",
    "group3_end = pd.to_datetime('2024-04-23')\n",
    "\n",
    "def assign_group(date):\n",
    "    if group1_start <= date <= group1_end:\n",
    "        return 'Group 1'\n",
    "    elif group2_start <= date <= group2_end:\n",
    "        return 'Group 2'\n",
    "    else:\n",
    "        return 'Group 3'\n",
    "\n",
    "df['Group'] = df['Date flt 1'].apply(assign_group)\n",
    "df['PAX SUM'] = df['PAX flt 1'] + df['PAX flt 2']\n"
   ],
   "metadata": {
    "collapsed": false,
    "ExecuteTime": {
     "end_time": "2024-06-06T02:18:48.648138Z",
     "start_time": "2024-06-06T02:18:48.636498Z"
    }
   },
   "id": "5f1cc783e764aaf6",
   "execution_count": 47
  },
  {
   "cell_type": "markdown",
   "source": [
    "Zaczniemy od analizy grupy pierwszej"
   ],
   "metadata": {
    "collapsed": false
   },
   "id": "efb2162c7a613471"
  },
  {
   "cell_type": "code",
   "outputs": [
    {
     "data": {
      "text/plain": "  Rotation        Route Date flt 1  Day flt 2  PAX flt 1  PAX flt 2  \\\n0    LO3/4  WAW-ORD-WAW 2024-04-06 2024-04-06        203        170   \n1  LO29/30  WAW-MIA-WAW 2024-04-06 2024-04-06        201        220   \n2  LO45/46  WAW-YYZ-WAW 2024-04-06 2024-04-06        104         91   \n3  LO41/42  WAW-YYZ-WAW 2024-04-06 2024-04-06        213        211   \n4  LO79/80  WAW-NRT-WAW 2024-04-05 2024-04-06        244        231   \n5  LO11/12  WAW-EWR-WAW 2024-04-06 2024-04-06        240        189   \n\n   PAX Group flt 1  PAX Group flt 2  PAX Transit ttl Revenue ttl  \\\n0                1                0              286   1 181 958   \n1               52                0              369   1 367 489   \n2                0                0                0   1 215 588   \n3                0                0              287   1 532 594   \n4               82               67              448   2 310 015   \n5                0                0              372   1 185 838   \n\n  Reprotection cost ttl Ancillary REV ttl Beyond REV ttl Cargo REV   VAR cost  \\\n0               290 102            60 021        160 909   149 563    643 581   \n1               322 677            73 160        159 472   202 238    873 482   \n2               203 255            26 974        320 828   187 330    926 552   \n3               290 850            38 598        320 828   139 850  1 157 196   \n4               437 828            37 275        430 835   159 983    763 615   \n5               352 994            60 798        140 101   192 692    875 543   \n\n   Final ttl    Group  PAX SUM  \n0    618 769  Group 1      373  \n1    606 200  Group 1      421  \n2    620 913  Group 1      195  \n3    583 823  Group 1      424  \n4  1 736 664  Group 1      475  \n5    350 893  Group 1      429  ",
      "text/html": "<div>\n<style scoped>\n    .dataframe tbody tr th:only-of-type {\n        vertical-align: middle;\n    }\n\n    .dataframe tbody tr th {\n        vertical-align: top;\n    }\n\n    .dataframe thead th {\n        text-align: right;\n    }\n</style>\n<table border=\"1\" class=\"dataframe\">\n  <thead>\n    <tr style=\"text-align: right;\">\n      <th></th>\n      <th>Rotation</th>\n      <th>Route</th>\n      <th>Date flt 1</th>\n      <th>Day flt 2</th>\n      <th>PAX flt 1</th>\n      <th>PAX flt 2</th>\n      <th>PAX Group flt 1</th>\n      <th>PAX Group flt 2</th>\n      <th>PAX Transit ttl</th>\n      <th>Revenue ttl</th>\n      <th>Reprotection cost ttl</th>\n      <th>Ancillary REV ttl</th>\n      <th>Beyond REV ttl</th>\n      <th>Cargo REV</th>\n      <th>VAR cost</th>\n      <th>Final ttl</th>\n      <th>Group</th>\n      <th>PAX SUM</th>\n    </tr>\n  </thead>\n  <tbody>\n    <tr>\n      <th>0</th>\n      <td>LO3/4</td>\n      <td>WAW-ORD-WAW</td>\n      <td>2024-04-06</td>\n      <td>2024-04-06</td>\n      <td>203</td>\n      <td>170</td>\n      <td>1</td>\n      <td>0</td>\n      <td>286</td>\n      <td>1 181 958</td>\n      <td>290 102</td>\n      <td>60 021</td>\n      <td>160 909</td>\n      <td>149 563</td>\n      <td>643 581</td>\n      <td>618 769</td>\n      <td>Group 1</td>\n      <td>373</td>\n    </tr>\n    <tr>\n      <th>1</th>\n      <td>LO29/30</td>\n      <td>WAW-MIA-WAW</td>\n      <td>2024-04-06</td>\n      <td>2024-04-06</td>\n      <td>201</td>\n      <td>220</td>\n      <td>52</td>\n      <td>0</td>\n      <td>369</td>\n      <td>1 367 489</td>\n      <td>322 677</td>\n      <td>73 160</td>\n      <td>159 472</td>\n      <td>202 238</td>\n      <td>873 482</td>\n      <td>606 200</td>\n      <td>Group 1</td>\n      <td>421</td>\n    </tr>\n    <tr>\n      <th>2</th>\n      <td>LO45/46</td>\n      <td>WAW-YYZ-WAW</td>\n      <td>2024-04-06</td>\n      <td>2024-04-06</td>\n      <td>104</td>\n      <td>91</td>\n      <td>0</td>\n      <td>0</td>\n      <td>0</td>\n      <td>1 215 588</td>\n      <td>203 255</td>\n      <td>26 974</td>\n      <td>320 828</td>\n      <td>187 330</td>\n      <td>926 552</td>\n      <td>620 913</td>\n      <td>Group 1</td>\n      <td>195</td>\n    </tr>\n    <tr>\n      <th>3</th>\n      <td>LO41/42</td>\n      <td>WAW-YYZ-WAW</td>\n      <td>2024-04-06</td>\n      <td>2024-04-06</td>\n      <td>213</td>\n      <td>211</td>\n      <td>0</td>\n      <td>0</td>\n      <td>287</td>\n      <td>1 532 594</td>\n      <td>290 850</td>\n      <td>38 598</td>\n      <td>320 828</td>\n      <td>139 850</td>\n      <td>1 157 196</td>\n      <td>583 823</td>\n      <td>Group 1</td>\n      <td>424</td>\n    </tr>\n    <tr>\n      <th>4</th>\n      <td>LO79/80</td>\n      <td>WAW-NRT-WAW</td>\n      <td>2024-04-05</td>\n      <td>2024-04-06</td>\n      <td>244</td>\n      <td>231</td>\n      <td>82</td>\n      <td>67</td>\n      <td>448</td>\n      <td>2 310 015</td>\n      <td>437 828</td>\n      <td>37 275</td>\n      <td>430 835</td>\n      <td>159 983</td>\n      <td>763 615</td>\n      <td>1 736 664</td>\n      <td>Group 1</td>\n      <td>475</td>\n    </tr>\n    <tr>\n      <th>5</th>\n      <td>LO11/12</td>\n      <td>WAW-EWR-WAW</td>\n      <td>2024-04-06</td>\n      <td>2024-04-06</td>\n      <td>240</td>\n      <td>189</td>\n      <td>0</td>\n      <td>0</td>\n      <td>372</td>\n      <td>1 185 838</td>\n      <td>352 994</td>\n      <td>60 798</td>\n      <td>140 101</td>\n      <td>192 692</td>\n      <td>875 543</td>\n      <td>350 893</td>\n      <td>Group 1</td>\n      <td>429</td>\n    </tr>\n  </tbody>\n</table>\n</div>"
     },
     "execution_count": 48,
     "metadata": {},
     "output_type": "execute_result"
    }
   ],
   "source": [
    "group1_data = df[df['Group'] == 'Group 1']\n",
    "\n",
    "group1_data"
   ],
   "metadata": {
    "collapsed": false,
    "ExecuteTime": {
     "end_time": "2024-06-06T02:18:50.416529Z",
     "start_time": "2024-06-06T02:18:50.396811Z"
    }
   },
   "id": "99794f0607e40be3",
   "execution_count": 48
  },
  {
   "cell_type": "markdown",
   "source": [
    "Na początku od razu można powiedzieć że nie zostanie usunięta rotacja LO79/80 ze względu na to że generuje bardzo wysokie przychody dla Linii lotniczych (generuje zarobki które są nieznacznie mniejsze niż zarobki wygenerowane przez 3 kolejne rotacje o najwyższych przychodach) więc nie możemy usunąć tej rotacji ponieważ byłaby to zbyt duża strata dla operatora lotu - ta rotacja nie zostanie również usunięta ze względu na największą łączną ilość pasażerów"
   ],
   "metadata": {
    "collapsed": false
   },
   "id": "27010edae5715003"
  },
  {
   "cell_type": "markdown",
   "source": [
    "Po dokładnym przyjrzeniu sie danym stwierdzam że rotacją którą trzeba usunąć jest rotacja o numerze LO45/46 (WAW-YYZ-WAW)\n",
    "Swoje zdanie argumentuje tym, że rotacja ta posiada najmniejszą liczbę pasażerów na obu lotach dodatkowo koszty reprotekcji są najniższe spośród wszystkich innych rotacji, co minimalizuje straty finansowe lini lotniczej w przypadku skasowania tej rotacji, dodatkowo żaden z pasażerów nie przesiada się na inny lot więc usunięcie tej rotacji nie spowoduje konfilików z innymi środkami transportu dodatkowo brak grup pasażerów na tej rotacji jest dodatkowym czynnikiem, który czyni tę rotację bardziej podatną na skasowanie. Dodatkowo ze względu na niższe przychody i koszty reprotekcji, skasowanie tej rotacji będzie miało mniejszy wpływ na operacje i logistykę firmy w porównaniu do rotacji, które generują większe przychody i mają wyższe koszty reprotekcji. Jeżeli chodzi o konsekwencje wizerunkowe które poniesie firma w przypadku usunięcia tej rotacji będą one prawdopodobnie mniejsze niż w przypadku innych lotów ponieważ gdyż rotacja ma najniższa ilość pasażerów przy obu lotach oraz nie ma klientów grupowych, mniej pasażerów = mniej potencjalnych złych opinii na temat lini lotniczej dodatkowo skasowanie może wpłynąć na klientów z Toronto, ale jest to mniejszy rynek w porównaniu do innych tras (np. Nowy Jork, Miami, Tokio)."
   ],
   "metadata": {
    "collapsed": false
   },
   "id": "118358bf5c6725e"
  },
  {
   "cell_type": "markdown",
   "source": [
    "Teraz przejdzmy do analizy drugiej grupy "
   ],
   "metadata": {
    "collapsed": false
   },
   "id": "94430cb7c1170d5a"
  },
  {
   "cell_type": "code",
   "outputs": [
    {
     "data": {
      "text/plain": "   Rotation        Route Date flt 1  Day flt 2  PAX flt 1  PAX flt 2  \\\n6   LO71/72  WAW-DEL-WAW 2024-04-07 2024-04-08        110        201   \n7   LO99/98  WAW-ICN-WAW 2024-04-07 2024-04-08        100         70   \n8   LO79/80  WAW-NRT-WAW 2024-04-07 2024-04-08        237        223   \n9   LO41/42  WAW-YYZ-WAW 2024-04-07 2024-04-07        226        207   \n10  LO29/30  WAW-MIA-WAW 2024-04-07 2024-04-07        125        238   \n11  LO73/74  WAW-DEL-WAW 2024-04-07 2024-04-08        110        201   \n12  LO45/46  WAW-YYZ-WAW 2024-04-07 2024-04-07        226        207   \n13  LO29/30  WAW-MIA-WAW 2024-04-07 2024-04-07        125        238   \n\n    PAX Group flt 1  PAX Group flt 2  PAX Transit ttl Revenue ttl  \\\n6                10               98              261     865 151   \n7                 0                0                0   1 102 947   \n8                65               92              417   1 989 476   \n9                 1                0              264   1 529 162   \n10               35                1              363   1 077 816   \n11               10               98              261     865 151   \n12                1                0              264   1 529 162   \n13               35                1              363   1 977 816   \n\n   Reprotection cost ttl Ancillary REV ttl Beyond REV ttl Cargo REV  \\\n6                122 354            18 140        232 792   149 563   \n7                201 242            19 535        387 052   202 238   \n8                434 454            36 987        430 835   139 850   \n9                299 355            39 727        320 828   237 925   \n10               271 808            61 626        159 472   199 578   \n11               132 942            19 709        232 792   159 983   \n12               376 745            49 997        320 828   139 850   \n13               281 678            63 864        159 472   139 850   \n\n     VAR cost  Final ttl    Group  PAX SUM  \n6     620 957    522 335  Group 2      311  \n7     806 495    704 036  Group 2      170  \n8   1 132 340  1 030 354  Group 2      460  \n9     823 262  1 005 024  Group 2      433  \n10    816 702    409 981  Group 2      363  \n11    748 046    396 647  Group 2      311  \n12  1 129 653    533 438  Group 2      433  \n13  1 102 111    957 212  Group 2      363  ",
      "text/html": "<div>\n<style scoped>\n    .dataframe tbody tr th:only-of-type {\n        vertical-align: middle;\n    }\n\n    .dataframe tbody tr th {\n        vertical-align: top;\n    }\n\n    .dataframe thead th {\n        text-align: right;\n    }\n</style>\n<table border=\"1\" class=\"dataframe\">\n  <thead>\n    <tr style=\"text-align: right;\">\n      <th></th>\n      <th>Rotation</th>\n      <th>Route</th>\n      <th>Date flt 1</th>\n      <th>Day flt 2</th>\n      <th>PAX flt 1</th>\n      <th>PAX flt 2</th>\n      <th>PAX Group flt 1</th>\n      <th>PAX Group flt 2</th>\n      <th>PAX Transit ttl</th>\n      <th>Revenue ttl</th>\n      <th>Reprotection cost ttl</th>\n      <th>Ancillary REV ttl</th>\n      <th>Beyond REV ttl</th>\n      <th>Cargo REV</th>\n      <th>VAR cost</th>\n      <th>Final ttl</th>\n      <th>Group</th>\n      <th>PAX SUM</th>\n    </tr>\n  </thead>\n  <tbody>\n    <tr>\n      <th>6</th>\n      <td>LO71/72</td>\n      <td>WAW-DEL-WAW</td>\n      <td>2024-04-07</td>\n      <td>2024-04-08</td>\n      <td>110</td>\n      <td>201</td>\n      <td>10</td>\n      <td>98</td>\n      <td>261</td>\n      <td>865 151</td>\n      <td>122 354</td>\n      <td>18 140</td>\n      <td>232 792</td>\n      <td>149 563</td>\n      <td>620 957</td>\n      <td>522 335</td>\n      <td>Group 2</td>\n      <td>311</td>\n    </tr>\n    <tr>\n      <th>7</th>\n      <td>LO99/98</td>\n      <td>WAW-ICN-WAW</td>\n      <td>2024-04-07</td>\n      <td>2024-04-08</td>\n      <td>100</td>\n      <td>70</td>\n      <td>0</td>\n      <td>0</td>\n      <td>0</td>\n      <td>1 102 947</td>\n      <td>201 242</td>\n      <td>19 535</td>\n      <td>387 052</td>\n      <td>202 238</td>\n      <td>806 495</td>\n      <td>704 036</td>\n      <td>Group 2</td>\n      <td>170</td>\n    </tr>\n    <tr>\n      <th>8</th>\n      <td>LO79/80</td>\n      <td>WAW-NRT-WAW</td>\n      <td>2024-04-07</td>\n      <td>2024-04-08</td>\n      <td>237</td>\n      <td>223</td>\n      <td>65</td>\n      <td>92</td>\n      <td>417</td>\n      <td>1 989 476</td>\n      <td>434 454</td>\n      <td>36 987</td>\n      <td>430 835</td>\n      <td>139 850</td>\n      <td>1 132 340</td>\n      <td>1 030 354</td>\n      <td>Group 2</td>\n      <td>460</td>\n    </tr>\n    <tr>\n      <th>9</th>\n      <td>LO41/42</td>\n      <td>WAW-YYZ-WAW</td>\n      <td>2024-04-07</td>\n      <td>2024-04-07</td>\n      <td>226</td>\n      <td>207</td>\n      <td>1</td>\n      <td>0</td>\n      <td>264</td>\n      <td>1 529 162</td>\n      <td>299 355</td>\n      <td>39 727</td>\n      <td>320 828</td>\n      <td>237 925</td>\n      <td>823 262</td>\n      <td>1 005 024</td>\n      <td>Group 2</td>\n      <td>433</td>\n    </tr>\n    <tr>\n      <th>10</th>\n      <td>LO29/30</td>\n      <td>WAW-MIA-WAW</td>\n      <td>2024-04-07</td>\n      <td>2024-04-07</td>\n      <td>125</td>\n      <td>238</td>\n      <td>35</td>\n      <td>1</td>\n      <td>363</td>\n      <td>1 077 816</td>\n      <td>271 808</td>\n      <td>61 626</td>\n      <td>159 472</td>\n      <td>199 578</td>\n      <td>816 702</td>\n      <td>409 981</td>\n      <td>Group 2</td>\n      <td>363</td>\n    </tr>\n    <tr>\n      <th>11</th>\n      <td>LO73/74</td>\n      <td>WAW-DEL-WAW</td>\n      <td>2024-04-07</td>\n      <td>2024-04-08</td>\n      <td>110</td>\n      <td>201</td>\n      <td>10</td>\n      <td>98</td>\n      <td>261</td>\n      <td>865 151</td>\n      <td>132 942</td>\n      <td>19 709</td>\n      <td>232 792</td>\n      <td>159 983</td>\n      <td>748 046</td>\n      <td>396 647</td>\n      <td>Group 2</td>\n      <td>311</td>\n    </tr>\n    <tr>\n      <th>12</th>\n      <td>LO45/46</td>\n      <td>WAW-YYZ-WAW</td>\n      <td>2024-04-07</td>\n      <td>2024-04-07</td>\n      <td>226</td>\n      <td>207</td>\n      <td>1</td>\n      <td>0</td>\n      <td>264</td>\n      <td>1 529 162</td>\n      <td>376 745</td>\n      <td>49 997</td>\n      <td>320 828</td>\n      <td>139 850</td>\n      <td>1 129 653</td>\n      <td>533 438</td>\n      <td>Group 2</td>\n      <td>433</td>\n    </tr>\n    <tr>\n      <th>13</th>\n      <td>LO29/30</td>\n      <td>WAW-MIA-WAW</td>\n      <td>2024-04-07</td>\n      <td>2024-04-07</td>\n      <td>125</td>\n      <td>238</td>\n      <td>35</td>\n      <td>1</td>\n      <td>363</td>\n      <td>1 977 816</td>\n      <td>281 678</td>\n      <td>63 864</td>\n      <td>159 472</td>\n      <td>139 850</td>\n      <td>1 102 111</td>\n      <td>957 212</td>\n      <td>Group 2</td>\n      <td>363</td>\n    </tr>\n  </tbody>\n</table>\n</div>"
     },
     "execution_count": 52,
     "metadata": {},
     "output_type": "execute_result"
    }
   ],
   "source": [
    "group2_data = df[df['Group'] == 'Group 2']\n",
    "\n",
    "pd.set_option('display.max_rows', None)\n",
    "pd.set_option('display.max_columns', None)\n",
    "pd.set_option('display.width', None)\n",
    "pd.set_option('display.max_colwidth', None)\n",
    "\n",
    "group2_data"
   ],
   "metadata": {
    "collapsed": false,
    "ExecuteTime": {
     "end_time": "2024-06-06T02:37:21.191452Z",
     "start_time": "2024-06-06T02:37:21.171999Z"
    }
   },
   "id": "aca2b497ffca8337",
   "execution_count": 52
  },
  {
   "cell_type": "markdown",
   "source": [
    "Analizę zacznijmy od aspektu finansowego - najbardziej rentowna rotacja to LO79/80 (WAW-NRT-WAW) z całkowitym wynikiem 1,030,354 podobny wynik (1,005,024) przynosi rotacja LO41/42 niewiele mniej bo 957,212 przynosi rotacja o numerze LO29/30 - najmniej rentowna rotacja to rotacja o numerze LO73/74 której rentowność znacznie odbiega od pozostałych. Weźmy teraz pod uwagę aspekty operacyjne i logistyczne rotacja LO 99/98 przewozi najmniejszą sumaryczną liczbę pasażerów oraz żaden z pasażerów nie przesiada się na inny środek transportu, dodatkowo podczas tej rotacji nie ma żadnych grup pasażerów, dodatkowo rotacja ta nie ma wysokich kosztów przebookowania pasażerów na inne loty więc jej usunięcie aż tak mocno nie zaboli linii lotniczej. Usunięcie tej rotacji będzie skutkowało jednak potencjalną stratą finansową ponieważ finalny zysk z tej rotacji był 4 najwyższym wynikiem. Warto też mieć na uwadzę że 10.04.2024 w Korei obdywają się wybory parlemantarne, według danych 3362 południowych Koreańczyków zamieszkuje tereny polskie i prawdopodobnie część pasażerów lecąca z Warszawy do Korei leci właśnie na te wybory więc w sytuacji kiedy rotacja byłaby odwołana kilka dni przed planowanym wylotem byłoby to bardzo krzywdzące dla ludności Koreańskiej co mogłoby przynieść ogromne straty wizerunkowe - możliwe nawet że temat byłby poruszony w Koreańskich mediach co dodatkowo wzburzyłoby publicznie oburzenie, jednakże gdyby rotacja została odwołana odpowiednio wcześniej potencjalni głosujący mogliby głosować z Polski - jednakże taka opcja wymaga odpowiednich działań i czasu z ich strony. Mając na uwadzę tak ważne wydarzenie jak wybory nie możemy usunąć rotacji LO99/98. \n",
    "\n",
    "Analizując dokładnie zestawienie tabaleryczne najrosądnijeszą opcją będzie usunięcie rotacji LO71/72 lub rotacji LO73/74 - porównajmy te dwie rotacje \n",
    "Różnice między nimi to koszty reprotekcji które są niższe dla rotacji LO71/72, przychody dodatkowe które są wyższe w przypadku rotacji LO73/74 Cargo revenue też jest wyższe w przypadku rotacji LO73/74 koszty zmienne są wyższe w przypadku LO73/74 i ostatnim aspektem różniącym te dwie rotacje jest ostateczny zysk który jest na korzyść rotacji LO71/72. Analizując to wszystko rotacją na której odwołaniu mniej ucierpi firma jest rotacja o numerze LO73/74 - straty wizerunkowe w przypadku odwołania rotacji LO71/72 lub rotacji LO73/74 będą bardzo zbliżone, warto też mieć na uwadzę że są to identyczne rotacje odbywające się na trasie WAW - DEL - WAW więc być może w przypadku wolnych miejsc w rotacji LO71/72 część z pasażerów mogłaby być przekierowana na rotację LO71/72. \n",
    "\n",
    "Podsumowując, rotację którą trzeba usunąć to rotacja o numerze LO73/74\n"
   ],
   "metadata": {
    "collapsed": false
   },
   "id": "6641912f2f754720"
  },
  {
   "cell_type": "markdown",
   "source": [
    "Teraz przejdzmy do trzeciej grupy rotacji "
   ],
   "metadata": {
    "collapsed": false
   },
   "id": "ea7aa92611da845"
  },
  {
   "cell_type": "code",
   "outputs": [
    {
     "data": {
      "text/plain": "   Rotation        Route Date flt 1  Day flt 2  PAX flt 1  PAX flt 2  \\\n14  LO45/46  WAW-YYZ-WAW 2024-04-22 2024-04-22        152         96   \n15  LO26/27  WAW-JFK-WAW 2024-04-22 2024-04-22        181        164   \n16  LO71/72  WAW-DEL-WAW 2024-04-22 2024-04-23         52        165   \n17  LO41/42  WAW-YYZ-WAW 2024-04-22 2024-04-22        159        117   \n18  LO79/80  WAW-NRT-WAW 2024-04-21 2024-04-22        220        189   \n\n    PAX Group flt 1  PAX Group flt 2  PAX Transit ttl Revenue ttl  \\\n14               77                0              107     873 640   \n15              144                0              367   1 036 136   \n16                0               77              203     732 691   \n17                0                0              196     990 046   \n18               56               17              318   1 541 321   \n\n   Reprotection cost ttl Ancillary REV ttl Beyond REV ttl Cargo REV VAR cost  \\\n14               210 909            27 989        320 828   202 238  807 248   \n15               352 291            68 296        174 364   237 925  812 288   \n16                93 334            13 837        232 792   184 327  660 957   \n17               226 217            30 021        320 828   149 563  628 498   \n18               387 212            32 965        430 835   124 067  892 728   \n\n   Final ttl    Group  PAX SUM  \n14   406 539  Group 3      248  \n15   352 142  Group 3      345  \n16   409 357  Group 3      217  \n17   635 743  Group 3      276  \n18   849 249  Group 3      409  ",
      "text/html": "<div>\n<style scoped>\n    .dataframe tbody tr th:only-of-type {\n        vertical-align: middle;\n    }\n\n    .dataframe tbody tr th {\n        vertical-align: top;\n    }\n\n    .dataframe thead th {\n        text-align: right;\n    }\n</style>\n<table border=\"1\" class=\"dataframe\">\n  <thead>\n    <tr style=\"text-align: right;\">\n      <th></th>\n      <th>Rotation</th>\n      <th>Route</th>\n      <th>Date flt 1</th>\n      <th>Day flt 2</th>\n      <th>PAX flt 1</th>\n      <th>PAX flt 2</th>\n      <th>PAX Group flt 1</th>\n      <th>PAX Group flt 2</th>\n      <th>PAX Transit ttl</th>\n      <th>Revenue ttl</th>\n      <th>Reprotection cost ttl</th>\n      <th>Ancillary REV ttl</th>\n      <th>Beyond REV ttl</th>\n      <th>Cargo REV</th>\n      <th>VAR cost</th>\n      <th>Final ttl</th>\n      <th>Group</th>\n      <th>PAX SUM</th>\n    </tr>\n  </thead>\n  <tbody>\n    <tr>\n      <th>14</th>\n      <td>LO45/46</td>\n      <td>WAW-YYZ-WAW</td>\n      <td>2024-04-22</td>\n      <td>2024-04-22</td>\n      <td>152</td>\n      <td>96</td>\n      <td>77</td>\n      <td>0</td>\n      <td>107</td>\n      <td>873 640</td>\n      <td>210 909</td>\n      <td>27 989</td>\n      <td>320 828</td>\n      <td>202 238</td>\n      <td>807 248</td>\n      <td>406 539</td>\n      <td>Group 3</td>\n      <td>248</td>\n    </tr>\n    <tr>\n      <th>15</th>\n      <td>LO26/27</td>\n      <td>WAW-JFK-WAW</td>\n      <td>2024-04-22</td>\n      <td>2024-04-22</td>\n      <td>181</td>\n      <td>164</td>\n      <td>144</td>\n      <td>0</td>\n      <td>367</td>\n      <td>1 036 136</td>\n      <td>352 291</td>\n      <td>68 296</td>\n      <td>174 364</td>\n      <td>237 925</td>\n      <td>812 288</td>\n      <td>352 142</td>\n      <td>Group 3</td>\n      <td>345</td>\n    </tr>\n    <tr>\n      <th>16</th>\n      <td>LO71/72</td>\n      <td>WAW-DEL-WAW</td>\n      <td>2024-04-22</td>\n      <td>2024-04-23</td>\n      <td>52</td>\n      <td>165</td>\n      <td>0</td>\n      <td>77</td>\n      <td>203</td>\n      <td>732 691</td>\n      <td>93 334</td>\n      <td>13 837</td>\n      <td>232 792</td>\n      <td>184 327</td>\n      <td>660 957</td>\n      <td>409 357</td>\n      <td>Group 3</td>\n      <td>217</td>\n    </tr>\n    <tr>\n      <th>17</th>\n      <td>LO41/42</td>\n      <td>WAW-YYZ-WAW</td>\n      <td>2024-04-22</td>\n      <td>2024-04-22</td>\n      <td>159</td>\n      <td>117</td>\n      <td>0</td>\n      <td>0</td>\n      <td>196</td>\n      <td>990 046</td>\n      <td>226 217</td>\n      <td>30 021</td>\n      <td>320 828</td>\n      <td>149 563</td>\n      <td>628 498</td>\n      <td>635 743</td>\n      <td>Group 3</td>\n      <td>276</td>\n    </tr>\n    <tr>\n      <th>18</th>\n      <td>LO79/80</td>\n      <td>WAW-NRT-WAW</td>\n      <td>2024-04-21</td>\n      <td>2024-04-22</td>\n      <td>220</td>\n      <td>189</td>\n      <td>56</td>\n      <td>17</td>\n      <td>318</td>\n      <td>1 541 321</td>\n      <td>387 212</td>\n      <td>32 965</td>\n      <td>430 835</td>\n      <td>124 067</td>\n      <td>892 728</td>\n      <td>849 249</td>\n      <td>Group 3</td>\n      <td>409</td>\n    </tr>\n  </tbody>\n</table>\n</div>"
     },
     "execution_count": 54,
     "metadata": {},
     "output_type": "execute_result"
    }
   ],
   "source": [
    "group3_data = df[df['Group'] == 'Group 3']\n",
    "group3_data"
   ],
   "metadata": {
    "collapsed": false,
    "ExecuteTime": {
     "end_time": "2024-06-06T03:17:42.649806Z",
     "start_time": "2024-06-06T03:17:42.631537Z"
    }
   },
   "id": "bb29720e8f49868c",
   "execution_count": 54
  },
  {
   "cell_type": "markdown",
   "source": [
    "Analizując powyższe zestawienie widzimy że największe przychodzy generują odpowiednio: rotacja LO79/80 oraz rotacja LO41/42 dodatkowo koszt przebookowania w rotacji LO79/80 jest najwyższy oraz posiada ona największą liczbę pasażerów podczas obu lotów. Rotacja LO79/80 z pewnością nie zostanie usunięta. Rotacja o numerze LO71/72 również nie może zostać usunięta, ponieważ rotacja jest na trasie WAW - DEL - WAW a taka rotacja została odwołana 3 tygodnie później - ponowne odwołanie tej rotacji mogłoby mieć opłakane w skutkach straty wizerunkowe dla firmy która drugi raz w miesiącu odwołała rotację na tej trasie - klienci którym rotacja została odwołana dnia 07.04.2024 mogli zarezerwować kolejny lot właśnie dnia 22.04.2024 i gdyby ta rotacja znów została odwołana na pewno byliby bardzo oburzeni - zwłaszcza że tego dnia to jedyna taka rotacja na tej trasie, weźmy też pod uwagę klientów którzy polecieli inną rotacją dnia 07.04.2024 do Delhi i chcieliby 22.04.2024 wrócić do Polski - z powodu odwołania tej rotacji byłoby to niemożliwe co skutkowałoby niepochlebnymi opiniami na temat Lini lotniczej. \n",
    "\n",
    "Do analizy zostały nam rotacje LO45/46, LO26/27 oraz LO41/42, spórzjmy na ilość przesiadających się pasażerów - jest ona najmniejsza dla rotacji o numerze LO45/46, dodatkowo rotacja ta generuje drugie najmniejsze zyski a ponadto koszt przebookowania pasażerów jest najmniejszy spośród trzech analizowanych teraz rotacji, warto wspomnieć też że spośród trzech analizowanych przez nas rotacji podczas niej leci najmniej pasażerów - odwołanie tej rotacji jest najbardziej rozsądne więc rotacją którą odwołam będzie właśnie ta o numerze LO45/46 - jej odwołanie może odbić się na wizerunku firmy, ponieważ mamy w niej aż 77 grup pasażerów na trasie Warszawa - Toronto jednakże biorąc pod uwagę inne aspekty wizerunkowe takie jak ilość potencjalnie niezawodolonych klientów lub ilość pasażerów którzy będą się przesiadać jest to najrozsądniejsza z opcji - dodatkowo rotacja na tej samej trasie odbywa sie w tym samym dniu więc w przypadku dostępnych miejsc na rotacji LO41/42 możliwe byłoby przerzucienie właśnie tam klientów \n"
   ],
   "metadata": {
    "collapsed": false
   },
   "id": "7c045c8b2a3002fc"
  },
  {
   "cell_type": "markdown",
   "source": [
    "Podsumowując\n",
    " w grupie nr1 kasuje rotacje o numerze: LO45/46\n",
    " w grupie nr2 kasuje rotację o numerze: LO73/74\n",
    " w grupie nr3 kasuje rotację o numerze: LO45/46\n"
   ],
   "metadata": {
    "collapsed": false
   },
   "id": "8d8cae76e1b74e88"
  }
 ],
 "metadata": {
  "kernelspec": {
   "display_name": "Python 3",
   "language": "python",
   "name": "python3"
  },
  "language_info": {
   "codemirror_mode": {
    "name": "ipython",
    "version": 2
   },
   "file_extension": ".py",
   "mimetype": "text/x-python",
   "name": "python",
   "nbconvert_exporter": "python",
   "pygments_lexer": "ipython2",
   "version": "2.7.6"
  }
 },
 "nbformat": 4,
 "nbformat_minor": 5
}
